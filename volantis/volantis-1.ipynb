{
 "cells": [
  {
   "cell_type": "markdown",
   "metadata": {},
   "source": [
    "# Fetching Data dari Volantis\n",
    "\n",
    "### Ambil dari contoh\n",
    "\n",
    "Data yang di fecth adalah [data diabetes](https://volantis.io/products/detail/771d330d-baff-11e8-97a2-08d40cec20c9). Yang pertama dilakukan adalah mencoba dari contoh yang sudah ada. Hasi dari contoh yang diberikan dari halaman tersebut menunjukkan ada banyak kolom yang dikembalikan. Tampilan interaktif ada di kolom dibawahnya"
   ]
  },
  {
   "cell_type": "code",
   "execution_count": 4,
   "metadata": {},
   "outputs": [
    {
     "name": "stdout",
     "output_type": "stream",
     "text": [
      "{\"requestId\":\"b9cd9e83-c4e4-453f-8c39-5e0f15dd1dbd\",\"result\":[{\"_data_source_id\":\"771d330d-baff-11e8-97a2-08d40cec20c9\",\"_id\":\"node_771d330d-baff-11e8-97a2-08d40cec20c9_1_1537417145926/n1005410790\",\"_key\":\"n1005410790\",\"_label\":\"medical_status\",\"_rev\":\"_XthS11C---\",\"_timestamp\":\"2018-09-20T04:19:09.756Z\",\"_vertex_id\":\"117\",\"blood_pressure\":48,\"glucose\":78,\"insulin\":0,\"skin_thickness\":0},{\"_data_source_id\":\"771d330d-baff-11e8-97a2-08d40cec20c9\",\"_id\":\"node_771d330d-baff-11e8-97a2-08d40cec20c9_1_1537417145926/n1005408658\",\"_key\":\"n1005408658\",\"_label\":\"medical_status\",\"_rev\":\"_XthS11K---\",\"_timestamp\":\"2018-09-20T04:19:11.057Z\",\"_vertex_id\":\"380\",\"blood_pressure\":72,\"glucose\":107,\"insulin\":82,\"skin_thickness\":30},{\"_data_source_id\":\"771d330d-baff-11e8-97a2-08d40cec20c9\",\"_id\":\"node_771d330d-baff-11e8-97a2-08d40cec20c9_1_1537417145926/n1005409860\",\"_key\":\"n1005409860\",\"_label\":\"medical_status\",\"_rev\":\"_XthS12K---\",\"_timestamp\":\"2018-09-20T04:19:10.286Z\",\"_vertex_id\":\"207\",\"blood_pressure\":104,\"glucose\":162,\"insulin\":0,\"skin_thickness\":0},{\"_data_source_id\":\"771d330d-baff-11e8-97a2-08d40cec20c9\",\"_id\":\"node_771d330d-baff-11e8-97a2-08d40cec20c9_1_1537417145926/n1005406949\",\"_key\":\"n1005406949\",\"_label\":\"medical_status\",\"_rev\":\"_XthS11O---\",\"_timestamp\":\"2018-09-20T04:19:11.731Z\",\"_vertex_id\":\"514\",\"blood_pressure\":54,\"glucose\":99,\"insulin\":86,\"skin_thickness\":19},{\"_data_source_id\":\"771d330d-baff-11e8-97a2-08d40cec20c9\",\"_id\":\"node_771d330d-baff-11e8-97a2-08d40cec20c9_1_1537417145926/n1005408839\",\"_key\":\"n1005408839\",\"_label\":\"medical_status\",\"_rev\":\"_XthS11a---\",\"_timestamp\":\"2018-09-20T04:19:10.798Z\",\"_vertex_id\":\"325\",\"blood_pressure\":72,\"glucose\":157,\"insulin\":168,\"skin_thickness\":21}],\"hasMore\":false}\n"
     ]
    }
   ],
   "source": [
    "import requests\n",
    "import pandas as pd\n",
    "\n",
    "\n",
    "import RenderJSON\n",
    "import header\n",
    "\n",
    "url = \"https://api.volantis.io/v1/query/sync/dataset/7745b98a-baff-11e8-9e65-08d40cec20c9\"\n",
    "payload = \"{\\\"queryType\\\":\\\"TEXT_SEARCH\\\",\\\"limit\\\":5,\\\"property\\\":\\\"_id\\\",\\\"objectType\\\":\\\"VERTEX\\\",\\\"objectLabel\\\":\\\"medical_status\\\",\\\"querySpec\\\":{\\\"querySpecType\\\":\\\"CONTAINS\\\",\\\"value\\\":\\\"\\\"}}\"\n",
    "\n",
    "response = requests.request(\"POST\", url, data=payload, headers=header.headers)\n",
    "print(response.text)\n"
   ]
  },
  {
   "cell_type": "code",
   "execution_count": 21,
   "metadata": {},
   "outputs": [
    {
     "data": {
      "text/html": [
       "<div id=\"912773bf-c46f-4a35-b5b7-90160160e1bb\" style=\"height: 600px; width:100%;\"></div>"
      ]
     },
     "metadata": {},
     "output_type": "display_data"
    },
    {
     "data": {
      "application/javascript": [
       "\n",
       "        require([\"https://rawgit.com/caldwell/renderjson/master/renderjson.js\"], function() {\n",
       "        document.getElementById('912773bf-c46f-4a35-b5b7-90160160e1bb').appendChild(renderjson({\"requestId\":\"8e040004-cb98-4f8d-adc3-c1b0a39f3538\",\"result\":[{\"_data_source_id\":\"771d330d-baff-11e8-97a2-08d40cec20c9\",\"_id\":\"node_771d330d-baff-11e8-97a2-08d40cec20c9_1_1537417145926/n1005410790\",\"_key\":\"n1005410790\",\"_label\":\"medical_status\",\"_rev\":\"_XthS11C---\",\"_timestamp\":\"2018-09-20T04:19:09.756Z\",\"_vertex_id\":\"117\",\"blood_pressure\":48,\"glucose\":78,\"insulin\":0,\"skin_thickness\":0},{\"_data_source_id\":\"771d330d-baff-11e8-97a2-08d40cec20c9\",\"_id\":\"node_771d330d-baff-11e8-97a2-08d40cec20c9_1_1537417145926/n1005408658\",\"_key\":\"n1005408658\",\"_label\":\"medical_status\",\"_rev\":\"_XthS11K---\",\"_timestamp\":\"2018-09-20T04:19:11.057Z\",\"_vertex_id\":\"380\",\"blood_pressure\":72,\"glucose\":107,\"insulin\":82,\"skin_thickness\":30},{\"_data_source_id\":\"771d330d-baff-11e8-97a2-08d40cec20c9\",\"_id\":\"node_771d330d-baff-11e8-97a2-08d40cec20c9_1_1537417145926/n1005409860\",\"_key\":\"n1005409860\",\"_label\":\"medical_status\",\"_rev\":\"_XthS12K---\",\"_timestamp\":\"2018-09-20T04:19:10.286Z\",\"_vertex_id\":\"207\",\"blood_pressure\":104,\"glucose\":162,\"insulin\":0,\"skin_thickness\":0},{\"_data_source_id\":\"771d330d-baff-11e8-97a2-08d40cec20c9\",\"_id\":\"node_771d330d-baff-11e8-97a2-08d40cec20c9_1_1537417145926/n1005406949\",\"_key\":\"n1005406949\",\"_label\":\"medical_status\",\"_rev\":\"_XthS11O---\",\"_timestamp\":\"2018-09-20T04:19:11.731Z\",\"_vertex_id\":\"514\",\"blood_pressure\":54,\"glucose\":99,\"insulin\":86,\"skin_thickness\":19},{\"_data_source_id\":\"771d330d-baff-11e8-97a2-08d40cec20c9\",\"_id\":\"node_771d330d-baff-11e8-97a2-08d40cec20c9_1_1537417145926/n1005408839\",\"_key\":\"n1005408839\",\"_label\":\"medical_status\",\"_rev\":\"_XthS11a---\",\"_timestamp\":\"2018-09-20T04:19:10.798Z\",\"_vertex_id\":\"325\",\"blood_pressure\":72,\"glucose\":157,\"insulin\":168,\"skin_thickness\":21}],\"hasMore\":false}))\n",
       "        });\n",
       "        "
      ]
     },
     "metadata": {},
     "output_type": "display_data"
    }
   ],
   "source": [
    "RenderJSON(response.text)"
   ]
  },
  {
   "cell_type": "markdown",
   "metadata": {},
   "source": [
    "Kemudian coba untuk mengambil beberapa kolomnya saja, semisal disease dan medical_status"
   ]
  },
  {
   "cell_type": "code",
   "execution_count": null,
   "metadata": {},
   "outputs": [],
   "source": [
    "url = \"https://api.volantis.io/v1/query/sync/dataset/7745b98a-baff-11e8-9e65-08d40cec20c9\"\n",
    "payload = \"{\\\"queryType\\\":\\\"TEXT_SEARCH\\\",\\\"limit\\\":5,\\\"property\\\":\\\"_id\\\",\\\"objectType\\\":\\\"VERTEX\\\",\\\"objectLabel\\\":\\\"medical_status\\\",\\\"querySpec\\\":{\\\"querySpecType\\\":\\\"CONTAINS\\\",\\\"value\\\":\\\"\\\"}}\"\n",
    "\n",
    "response = requests.request(\"POST\", url, data=payload, headers=header.headers)"
   ]
  },
  {
   "cell_type": "code",
   "execution_count": 24,
   "metadata": {},
   "outputs": [
    {
     "data": {
      "text/html": [
       "<div>\n",
       "<style scoped>\n",
       "    .dataframe tbody tr th:only-of-type {\n",
       "        vertical-align: middle;\n",
       "    }\n",
       "\n",
       "    .dataframe tbody tr th {\n",
       "        vertical-align: top;\n",
       "    }\n",
       "\n",
       "    .dataframe thead th {\n",
       "        text-align: right;\n",
       "    }\n",
       "</style>\n",
       "<table border=\"1\" class=\"dataframe\">\n",
       "  <thead>\n",
       "    <tr style=\"text-align: right;\">\n",
       "      <th></th>\n",
       "      <th>requestId</th>\n",
       "      <th>result</th>\n",
       "      <th>hasMore</th>\n",
       "    </tr>\n",
       "  </thead>\n",
       "  <tbody>\n",
       "    <tr>\n",
       "      <th>0</th>\n",
       "      <td>92f8f7b5-ea44-4dad-8871-2f0f8ca85eb5</td>\n",
       "      <td>{'_data_source_id': '771d330d-baff-11e8-97a2-0...</td>\n",
       "      <td>False</td>\n",
       "    </tr>\n",
       "    <tr>\n",
       "      <th>1</th>\n",
       "      <td>92f8f7b5-ea44-4dad-8871-2f0f8ca85eb5</td>\n",
       "      <td>{'_data_source_id': '771d330d-baff-11e8-97a2-0...</td>\n",
       "      <td>False</td>\n",
       "    </tr>\n",
       "    <tr>\n",
       "      <th>2</th>\n",
       "      <td>92f8f7b5-ea44-4dad-8871-2f0f8ca85eb5</td>\n",
       "      <td>{'_data_source_id': '771d330d-baff-11e8-97a2-0...</td>\n",
       "      <td>False</td>\n",
       "    </tr>\n",
       "    <tr>\n",
       "      <th>3</th>\n",
       "      <td>92f8f7b5-ea44-4dad-8871-2f0f8ca85eb5</td>\n",
       "      <td>{'_data_source_id': '771d330d-baff-11e8-97a2-0...</td>\n",
       "      <td>False</td>\n",
       "    </tr>\n",
       "    <tr>\n",
       "      <th>4</th>\n",
       "      <td>92f8f7b5-ea44-4dad-8871-2f0f8ca85eb5</td>\n",
       "      <td>{'_data_source_id': '771d330d-baff-11e8-97a2-0...</td>\n",
       "      <td>False</td>\n",
       "    </tr>\n",
       "  </tbody>\n",
       "</table>\n",
       "</div>"
      ],
      "text/plain": [
       "                              requestId  \\\n",
       "0  92f8f7b5-ea44-4dad-8871-2f0f8ca85eb5   \n",
       "1  92f8f7b5-ea44-4dad-8871-2f0f8ca85eb5   \n",
       "2  92f8f7b5-ea44-4dad-8871-2f0f8ca85eb5   \n",
       "3  92f8f7b5-ea44-4dad-8871-2f0f8ca85eb5   \n",
       "4  92f8f7b5-ea44-4dad-8871-2f0f8ca85eb5   \n",
       "\n",
       "                                              result  hasMore  \n",
       "0  {'_data_source_id': '771d330d-baff-11e8-97a2-0...    False  \n",
       "1  {'_data_source_id': '771d330d-baff-11e8-97a2-0...    False  \n",
       "2  {'_data_source_id': '771d330d-baff-11e8-97a2-0...    False  \n",
       "3  {'_data_source_id': '771d330d-baff-11e8-97a2-0...    False  \n",
       "4  {'_data_source_id': '771d330d-baff-11e8-97a2-0...    False  "
      ]
     },
     "execution_count": 24,
     "metadata": {},
     "output_type": "execute_result"
    }
   ],
   "source": [
    "x = pd.read_json(response.text)\n",
    "x"
   ]
  },
  {
   "cell_type": "code",
   "execution_count": 25,
   "metadata": {},
   "outputs": [
    {
     "data": {
      "text/plain": [
       "<class 'str'>"
      ]
     },
     "execution_count": 25,
     "metadata": {},
     "output_type": "execute_result"
    }
   ],
   "source": [
    "type(response.text)"
   ]
  },
  {
   "cell_type": "code",
   "execution_count": 30,
   "metadata": {},
   "outputs": [],
   "source": [
    "json1_data = json.loads(response.text)"
   ]
  },
  {
   "cell_type": "code",
   "execution_count": 35,
   "metadata": {},
   "outputs": [
    {
     "data": {
      "text/plain": [
       "[{'_data_source_id': '771d330d-baff-11e8-97a2-08d40cec20c9', '_id': 'node_771d330d-baff-11e8-97a2-08d40cec20c9_1_1537417145926/n1005410790', '_key': 'n1005410790', '_label': 'medical_status', '_rev': '_XthS11C---', '_timestamp': '2018-09-20T04:19:09.756Z', '_vertex_id': '117', 'blood_pressure': 48, 'glucose': 78, 'insulin': 0, 'skin_thickness': 0}, {'_data_source_id': '771d330d-baff-11e8-97a2-08d40cec20c9', '_id': 'node_771d330d-baff-11e8-97a2-08d40cec20c9_1_1537417145926/n1005408658', '_key': 'n1005408658', '_label': 'medical_status', '_rev': '_XthS11K---', '_timestamp': '2018-09-20T04:19:11.057Z', '_vertex_id': '380', 'blood_pressure': 72, 'glucose': 107, 'insulin': 82, 'skin_thickness': 30}, {'_data_source_id': '771d330d-baff-11e8-97a2-08d40cec20c9', '_id': 'node_771d330d-baff-11e8-97a2-08d40cec20c9_1_1537417145926/n1005409860', '_key': 'n1005409860', '_label': 'medical_status', '_rev': '_XthS12K---', '_timestamp': '2018-09-20T04:19:10.286Z', '_vertex_id': '207', 'blood_pressure': 104, 'glucose': 162, 'insulin': 0, 'skin_thickness': 0}, {'_data_source_id': '771d330d-baff-11e8-97a2-08d40cec20c9', '_id': 'node_771d330d-baff-11e8-97a2-08d40cec20c9_1_1537417145926/n1005406949', '_key': 'n1005406949', '_label': 'medical_status', '_rev': '_XthS11O---', '_timestamp': '2018-09-20T04:19:11.731Z', '_vertex_id': '514', 'blood_pressure': 54, 'glucose': 99, 'insulin': 86, 'skin_thickness': 19}, {'_data_source_id': '771d330d-baff-11e8-97a2-08d40cec20c9', '_id': 'node_771d330d-baff-11e8-97a2-08d40cec20c9_1_1537417145926/n1005408839', '_key': 'n1005408839', '_label': 'medical_status', '_rev': '_XthS11a---', '_timestamp': '2018-09-20T04:19:10.798Z', '_vertex_id': '325', 'blood_pressure': 72, 'glucose': 157, 'insulin': 168, 'skin_thickness': 21}]"
      ]
     },
     "execution_count": 35,
     "metadata": {},
     "output_type": "execute_result"
    }
   ],
   "source": [
    "data = json1_data[\"result\"]\n",
    "data = pd.DataFrame.from_dict(data, columns=['blood_pressure', 'glucose', 'insulin','skin_thickness' ])"
   ]
  },
  {
   "cell_type": "code",
   "execution_count": null,
   "metadata": {},
   "outputs": [],
   "source": []
  }
 ],
 "metadata": {
  "kernelspec": {
   "display_name": "Python 3",
   "language": "python",
   "name": "python3"
  },
  "language_info": {
   "codemirror_mode": {
    "name": "ipython",
    "version": 3
   },
   "file_extension": ".py",
   "mimetype": "text/x-python",
   "name": "python",
   "nbconvert_exporter": "python",
   "pygments_lexer": "ipython3",
   "version": "3.6.1"
  }
 },
 "nbformat": 4,
 "nbformat_minor": 2
}
